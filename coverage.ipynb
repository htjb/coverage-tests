{
 "cells": [
  {
   "cell_type": "markdown",
   "metadata": {},
   "source": [
    "# Expected Coverage Probability\n",
    "\n",
    "Trying to understand how to calcualte ECP for simulation based inference so that I can try and validate my posteriors. There is a good description of how to calcualte ECP in this paper by Pablo Lemos et al. https://arxiv.org/pdf/2302.03026.pdf.\n",
    "\n",
    "If we have a set of $N_{sim}$ simulations $\\{\\theta_i, x_i\\}$ then the algorithm runs as follows\n",
    "\n",
    "---\n",
    "- for simulation $x_i$\n",
    "\n",
    "    - generate $n$ samples $\\{\\theta_{ij}\\}\\sim P(\\theta|x_j)$\n",
    "\n",
    "    - define $f_i = \\frac{1}{n} \\sum^n_j \\boldsymbol{1}[\\hat{p}(\\theta_{ij}|x_j) < \\hat{p}(\\theta_i|x_j)]$\n",
    "\n",
    "- define $\\alpha$ to be a list of values between 0 and 1\n",
    "\n",
    "- for each $\\alpha$\n",
    "\n",
    "    - define ECP $= \\frac{1}{N_{sim}} \\sum^{N_{sim}}_i \\boldsymbol{1}[f_i < 1- \\alpha]$\n",
    "\n",
    "- plot ECP versus $1-\\alpha$\n",
    "\n",
    "---\n",
    "\n",
    "where $\\hat{p}$ is the prediction of the posterior and $\\boldsymbol{1}[]$ is the [indicator function](https://en.wikipedia.org/wiki/Indicator_function)."
   ]
  },
  {
   "cell_type": "markdown",
   "metadata": {},
   "source": [
    "## Coding this up\n",
    "\n",
    "Start with imports. Define a simualtor, prior to samples from, posterior probability  and a function to generate samples from the posterior (I guess this would be nested sampling/MCMC).\n",
    "\n",
    "Here my data is $x = \\theta^2$ plus some gaussian distributed noise.\n",
    "\n",
    "Hmm my posterior is really a likelihood but you get the idea."
   ]
  },
  {
   "cell_type": "code",
   "execution_count": null,
   "metadata": {},
   "outputs": [],
   "source": [
    "import numpy as np\n",
    "import matplotlib.pyplot as plt\n",
    "from scipy.stats import norm\n",
    "from tqdm import tqdm\n",
    "\n",
    "def simulator(theta):\n",
    "    return theta**2 + np.random.normal(0, 0.5, 1)\n",
    "\n",
    "def prior(N):\n",
    "    return np.random.uniform(1, 2, N)\n",
    "\n",
    "def posterior(theta, data):\n",
    "    return norm.pdf(theta**2, loc=data, scale=0.5)\n",
    "\n",
    "def generate_samples(n, data):\n",
    "    return np.sqrt(norm.rvs(loc=data, scale=0.5, size=n))"
   ]
  },
  {
   "cell_type": "markdown",
   "metadata": {},
   "source": [
    "Next generate samples and corresponding simulations."
   ]
  },
  {
   "cell_type": "code",
   "execution_count": null,
   "metadata": {},
   "outputs": [],
   "source": [
    "N = 100\n",
    "samples = prior(N)\n",
    "data = np.array([simulator(samples[i]) for i in range(N)])"
   ]
  },
  {
   "cell_type": "markdown",
   "metadata": {},
   "source": [
    "Now calculate $f$ for each of the simulations $x_i(\\theta_i)$."
   ]
  },
  {
   "cell_type": "code",
   "execution_count": null,
   "metadata": {},
   "outputs": [
    {
     "name": "stderr",
     "output_type": "stream",
     "text": [
      "  0%|          | 0/100 [00:00<?, ?it/s]0.00s - Debugger warning: It seems that frozen modules are being used, which may\n",
      "0.00s - make the debugger miss breakpoints. Please pass -Xfrozen_modules=off\n",
      "0.00s - to python to disable frozen modules.\n",
      "0.00s - Note: Debugging will proceed. Set PYDEVD_DISABLE_FILE_VALIDATION=1 to disable this validation.\n",
      "  3%|▎         | 3/100 [00:00<00:15,  6.08it/s]/var/folders/pk/s11gmpgj1_d0jt1ykgfx7rt80000gn/T/ipykernel_45630/3467198495.py:16: RuntimeWarning: invalid value encountered in sqrt\n",
      "  return np.sqrt(norm.rvs(loc=data, scale=0.5, size=n))\n",
      "100%|██████████| 100/100 [00:16<00:00,  6.11it/s]\n"
     ]
    }
   ],
   "source": [
    "f = []\n",
    "for j in tqdm(range(len(data))):\n",
    "    test_samples = generate_samples(2000, data[j]) # samples from P(theta|x_i) i.e. theta_ij\n",
    "    # comparing P(theta_ij|x_i) and P(theta_i|x_i)\n",
    "    ff = np.mean([1 if posterior(test_samples[t], data[j]) < \n",
    "                  posterior(samples[j], data[j]) else 0 for t in range(len(test_samples))])\n",
    "    f.append(ff)"
   ]
  },
  {
   "cell_type": "markdown",
   "metadata": {},
   "source": [
    "Now define $\\alpha$ and calculate ECP."
   ]
  },
  {
   "cell_type": "code",
   "execution_count": null,
   "metadata": {},
   "outputs": [],
   "source": [
    "ecp = []\n",
    "alpha=np.linspace(0, 1, 100)\n",
    "for j in range(len(alpha)):\n",
    "    e = np.mean([1 if f[i] < (1 - alpha[j]) else 0 for i in range(len(data))])\n",
    "    ecp.append(e)\n",
    "ecp = np.array(ecp)"
   ]
  },
  {
   "cell_type": "markdown",
   "metadata": {},
   "source": [
    "Now plot."
   ]
  },
  {
   "cell_type": "code",
   "execution_count": null,
   "metadata": {},
   "outputs": [
    {
     "data": {
      "image/png": "[encoded data removed]",
      "text/plain": [
       "<Figure size 640x480 with 1 Axes>"
      ]
     },
     "metadata": {},
     "output_type": "display_data"
    }
   ],
   "source": [
    "plt.plot(1- alpha, ecp, label='ECP')\n",
    "plt.plot(1- alpha, 1 - alpha, ls='--', c='k')\n",
    "plt.legend()\n",
    "plt.show()"
   ]
  }
 ],
 "metadata": {
  "kernelspec": {
   "display_name": "Python 3",
   "language": "python",
   "name": "python3"
  },
  "language_info": {
   "codemirror_mode": {
    "name": "ipython",
    "version": 3
   },
   "file_extension": ".py",
   "mimetype": "text/x-python",
   "name": "python",
   "nbconvert_exporter": "python",
   "pygments_lexer": "ipython3",
   "version": "3.11.6"
  }
 },
 "nbformat": 4,
 "nbformat_minor": 2
}
